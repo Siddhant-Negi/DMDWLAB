{
  "nbformat": 4,
  "nbformat_minor": 0,
  "metadata": {
    "colab": {
      "name": "18CSE104_ass1.ipynb",
      "provenance": [],
      "authorship_tag": "ABX9TyNS8keYB/9/PIyzfaZeeJcs",
      "include_colab_link": true
    },
    "kernelspec": {
      "name": "python3",
      "display_name": "Python 3"
    }
  },
  "cells": [
    {
      "cell_type": "markdown",
      "metadata": {
        "id": "view-in-github",
        "colab_type": "text"
      },
      "source": [
        "<a href=\"https://colab.research.google.com/github/Siddhant-Negi/DMDWLAB/blob/main/18CSE104_ass1.ipynb\" target=\"_parent\"><img src=\"https://colab.research.google.com/assets/colab-badge.svg\" alt=\"Open In Colab\"/></a>"
      ]
    },
    {
      "cell_type": "code",
      "metadata": {
        "colab": {
          "base_uri": "https://localhost:8080/"
        },
        "id": "JPWyaCCfhoog",
        "outputId": "0a1e2112-262c-4f1e-b423-6e78d31b6e76"
      },
      "source": [
        "#ASSIGNMENT 1\n",
        "#mean median and mode without using the library\n",
        "a=list(map(int,input().split(\",\")))\n",
        "n=len(a)\n",
        "a.sort()\n",
        "avg1=sum(a)//len(a)     #MEAN\n",
        "if len(a)%2==1:\n",
        "    median=a[(n+1)//2]\n",
        "else:\n",
        "    median=a[(n-1)//2]+a[(n+1)//2]/2    #MEDIAN\n",
        "print(median)\n",
        "print(avg1)\n"
      ],
      "execution_count": 1,
      "outputs": [
        {
          "output_type": "stream",
          "text": [
            "1,2,3,4,5\n",
            "4\n",
            "3\n"
          ],
          "name": "stdout"
        }
      ]
    },
    {
      "cell_type": "code",
      "metadata": {
        "colab": {
          "base_uri": "https://localhost:8080/"
        },
        "id": "kF95txWVhzgS",
        "outputId": "543ccd34-76d6-4212-d221-cc45fbc4b03b"
      },
      "source": [
        "#MODE\n",
        "from collections import Counter\n",
        "a = list(map(int,input().split(\",\")))\n",
        "n = len(a)\n",
        "data = Counter(a)\n",
        "get_mode = dict(data)\n",
        "mode = [k for k, v in get_mode.items() if v==max(list(data.values()))]\n",
        "if len(mode) == n:\n",
        "  get_mode=\"No mode found\"\n",
        "else:\n",
        "  get_mode = \"Mode is / are: \" + ', '.join(map(str,mode))\n",
        "print(get_mode)"
      ],
      "execution_count": 2,
      "outputs": [
        {
          "output_type": "stream",
          "text": [
            "1,2,3,4\n",
            "No mode found\n"
          ],
          "name": "stdout"
        }
      ]
    },
    {
      "cell_type": "code",
      "metadata": {
        "colab": {
          "base_uri": "https://localhost:8080/"
        },
        "id": "VfwNrgpgpS2Z",
        "outputId": "72cc6ce8-41ec-4265-ca34-5531f8a6c615"
      },
      "source": [
        "import math\n",
        "test_list=list(map(int,input().split(\",\")))\n",
        "mean = sum(test_list) / len(test_list) \n",
        "variance = sum([((x - mean) ** 2) for x in test_list]) / len(test_list) \n",
        "res = variance ** 0.5\n",
        "print(\"standard deviation \"+str(res))\n",
        "#VARIANCE\n",
        "print(\"variance \"+str(math.sqrt(res)))"
      ],
      "execution_count": 6,
      "outputs": [
        {
          "output_type": "stream",
          "text": [
            "1,2,3,4,4,5\n",
            "standard deviation 1.3437096247164249\n",
            "variance 1.159184896690957\n"
          ],
          "name": "stdout"
        }
      ]
    },
    {
      "cell_type": "code",
      "metadata": {
        "colab": {
          "base_uri": "https://localhost:8080/"
        },
        "id": "1Wo16kgNpdQg",
        "outputId": "ffe4357a-2e3a-4daf-c31a-dd6758182d49"
      },
      "source": [
        "#MEAN MEDIAN standard deviation and variance using library functions\n",
        "import numpy as np\n",
        "a=list(map(int,input().split(\",\")))\n",
        "avg=np.mean(a)\n",
        "med=np.median(a)\n",
        "sd=np.std(a)\n",
        "V=np.var(a)\n",
        "print(\"mean is\"+str(avg))\n",
        "print(\"median is\"+str(med))\n",
        "print(\"standard deviation is\",sd)\n",
        "print(\"variance is\",V)"
      ],
      "execution_count": 8,
      "outputs": [
        {
          "output_type": "stream",
          "text": [
            "1,2,3,4,4,4,5\n",
            "mean is3.2857142857142856\n",
            "median is4.0\n",
            "standard deviation is 1.2777531299998799\n",
            "variance is 1.63265306122449\n"
          ],
          "name": "stdout"
        }
      ]
    },
    {
      "cell_type": "code",
      "metadata": {
        "colab": {
          "base_uri": "https://localhost:8080/"
        },
        "id": "NQImKOKpqLlq",
        "outputId": "9b9f7fd0-fdaf-4b2f-a440-ce7c46820a5a"
      },
      "source": [
        "from scipy import stats\n",
        "a=list(map(int,input().split(\",\")))\n",
        "m=stats.mode(a)\n",
        "print(\"mode is\",m)"
      ],
      "execution_count": 11,
      "outputs": [
        {
          "output_type": "stream",
          "text": [
            "1,2,3,4,4,5\n",
            "mode is ModeResult(mode=array([4]), count=array([2]))\n"
          ],
          "name": "stdout"
        }
      ]
    },
    {
      "cell_type": "code",
      "metadata": {
        "id": "1A1M6HGIqvoO"
      },
      "source": [
        ""
      ],
      "execution_count": null,
      "outputs": []
    }
  ]
}