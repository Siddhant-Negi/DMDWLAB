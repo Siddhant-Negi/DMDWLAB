{
  "nbformat": 4,
  "nbformat_minor": 0,
  "metadata": {
    "colab": {
      "name": "18CSE104_ass1.ipynb",
      "provenance": [],
      "authorship_tag": "ABX9TyNb4qT+DsymZf9RER64fNFg",
      "include_colab_link": true
    },
    "kernelspec": {
      "name": "python3",
      "display_name": "Python 3"
    }
  },
  "cells": [
    {
      "cell_type": "markdown",
      "metadata": {
        "id": "view-in-github",
        "colab_type": "text"
      },
      "source": [
        "<a href=\"https://colab.research.google.com/github/Siddhant-Negi/DMDWLAB/blob/main/18CSE104_ass1.ipynb\" target=\"_parent\"><img src=\"https://colab.research.google.com/assets/colab-badge.svg\" alt=\"Open In Colab\"/></a>"
      ]
    },
    {
      "cell_type": "code",
      "metadata": {
        "colab": {
          "base_uri": "https://localhost:8080/"
        },
        "id": "JPWyaCCfhoog",
        "outputId": "0a1e2112-262c-4f1e-b423-6e78d31b6e76"
      },
      "source": [
        "#ASSIGNMENT 1\n",
        "#mean median and mode without using the library\n",
        "a=list(map(int,input().split(\",\")))\n",
        "n=len(a)\n",
        "a.sort()\n",
        "avg1=sum(a)//len(a)     #MEAN\n",
        "if len(a)%2==1:\n",
        "    median=a[(n+1)//2]\n",
        "else:\n",
        "    median=a[(n-1)//2]+a[(n+1)//2]/2    #MEDIAN\n",
        "print(median)\n",
        "print(avg1)\n"
      ],
      "execution_count": 1,
      "outputs": [
        {
          "output_type": "stream",
          "text": [
            "1,2,3,4,5\n",
            "4\n",
            "3\n"
          ],
          "name": "stdout"
        }
      ]
    },
    {
      "cell_type": "code",
      "metadata": {
        "id": "kF95txWVhzgS"
      },
      "source": [
        ""
      ],
      "execution_count": null,
      "outputs": []
    }
  ]
}